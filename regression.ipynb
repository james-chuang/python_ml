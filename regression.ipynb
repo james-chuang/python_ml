{
 "cells": [
  {
   "cell_type": "code",
   "execution_count": 1,
   "metadata": {
    "collapsed": false
   },
   "outputs": [
    {
     "name": "stdout",
     "output_type": "stream",
     "text": [
      "              Open    High     Low    Close      Volume  Ex-Dividend  \\\n",
      "Date                                                                   \n",
      "2004-08-19  100.01  104.06   95.96  100.335  44659000.0          0.0   \n",
      "2004-08-20  101.01  109.08  100.50  108.310  22834300.0          0.0   \n",
      "2004-08-23  110.76  113.48  109.05  109.400  18256100.0          0.0   \n",
      "2004-08-24  111.24  111.60  103.57  104.870  15247300.0          0.0   \n",
      "2004-08-25  104.76  108.00  103.88  106.000   9188600.0          0.0   \n",
      "\n",
      "            Split Ratio  Adj. Open  Adj. High   Adj. Low  Adj. Close  \\\n",
      "Date                                                                   \n",
      "2004-08-19          1.0  50.159839  52.191109  48.128568   50.322842   \n",
      "2004-08-20          1.0  50.661387  54.708881  50.405597   54.322689   \n",
      "2004-08-23          1.0  55.551482  56.915693  54.693835   54.869377   \n",
      "2004-08-24          1.0  55.792225  55.972783  51.945350   52.597363   \n",
      "2004-08-25          1.0  52.542193  54.167209  52.100830   53.164113   \n",
      "\n",
      "            Adj. Volume  \n",
      "Date                     \n",
      "2004-08-19   44659000.0  \n",
      "2004-08-20   22834300.0  \n",
      "2004-08-23   18256100.0  \n",
      "2004-08-24   15247300.0  \n",
      "2004-08-25    9188600.0  \n"
     ]
    }
   ],
   "source": [
    "#Intro and Data\n",
    "import pandas as pd\n",
    "import quandl\n",
    "\n",
    "#import Google stock prices from quandl\n",
    "df = quandl.get(\"WIKI/GOOGL\")\n",
    "\n",
    "print(df.head())"
   ]
  },
  {
   "cell_type": "code",
   "execution_count": 2,
   "metadata": {
    "collapsed": false,
    "scrolled": true
   },
   "outputs": [
    {
     "name": "stdout",
     "output_type": "stream",
     "text": [
      "            Adj. Close    hl_pct  pct_change  Adj. Volume\n",
      "Date                                                     \n",
      "2004-08-19   50.322842  8.441017    0.324968   44659000.0\n",
      "2004-08-20   54.322689  8.537313    7.227007   22834300.0\n",
      "2004-08-23   54.869377  4.062357   -1.227880   18256100.0\n",
      "2004-08-24   52.597363  7.753210   -5.726357   15247300.0\n",
      "2004-08-25   53.164113  3.966115    1.183658    9188600.0\n"
     ]
    }
   ],
   "source": [
    "#reduce dataframe to relevant columns\n",
    "df = df[['Adj. Open', 'Adj. High','Adj. Low', 'Adj. Close','Adj. Volume']]\n",
    "\n",
    "#create a new column of High-Low percentage\n",
    "df['hl_pct'] = (df['Adj. High']- df['Adj. Low']) / df['Adj. Low'] * 100.0\n",
    "\n",
    "#create a new column of %spread (measure of volatility)\n",
    "df['pct_change'] = (df['Adj. Close'] - df['Adj. Open']) / df['Adj. Open'] * 100.0\n",
    "\n",
    "#reduce dataframe to relevant columns\n",
    "df = df[['Adj. Close', 'hl_pct', 'pct_change','Adj. Volume']]\n",
    "\n",
    "print(df.head())"
   ]
  },
  {
   "cell_type": "code",
   "execution_count": 3,
   "metadata": {
    "collapsed": false,
    "scrolled": true
   },
   "outputs": [
    {
     "name": "stdout",
     "output_type": "stream",
     "text": [
      "False\n"
     ]
    },
    {
     "name": "stderr",
     "output_type": "stream",
     "text": [
      "/opt/anaconda3/lib/python3.5/site-packages/sklearn/cross_validation.py:44: DeprecationWarning: This module was deprecated in version 0.18 in favor of the model_selection module into which all the refactored classes and functions are moved. Also note that the interface of the new CV iterators are different from that of this module. This module will be removed in 0.20.\n",
      "  \"This module will be removed in 0.20.\", DeprecationWarning)\n"
     ]
    }
   ],
   "source": [
    "#Features and Labels\n",
    "import math\n",
    "import numpy as np\n",
    "from sklearn import preprocessing, cross_validation, svm\n",
    "from sklearn.linear_model import LinearRegression\n",
    "\n",
    "print(df.isnull().values.any())\n",
    "#Replace NaN with -99999, even though there are no NaN in df\n",
    "df.fillna(value=-99999, inplace=True)\n",
    "\n",
    "#set forecast column variable\n",
    "forecast_col = 'Adj. Close'\n",
    "#want to predict out 1% of dataset size (e.g. 1 day for 100 days training)\n",
    "forecast_out = int(math.ceil(0.01*len(df)))\n",
    "\n",
    "#make training prediction labels\n",
    "df['label'] = df[forecast_col].shift(-forecast_out)"
   ]
  },
  {
   "cell_type": "code",
   "execution_count": 4,
   "metadata": {
    "collapsed": false
   },
   "outputs": [
    {
     "name": "stdout",
     "output_type": "stream",
     "text": [
      "linear 0.97176004864\n",
      "poly 0.716216359858\n",
      "rbf 0.818271143079\n",
      "sigmoid 0.895777641121\n",
      "\n",
      "linear regression 0.972495717513\n"
     ]
    }
   ],
   "source": [
    "#Training and testing\n",
    "\n",
    "#drop NaNs from dataframe\n",
    "df.dropna(inplace=True)\n",
    "\n",
    "#split into design matrix X and labels y\n",
    "X = np.array(df.drop(['label'], 1))\n",
    "y = np.array(df['label'])\n",
    "\n",
    "#preprocess X by scaling to ~N(0,1)\n",
    "X = preprocessing.scale(X)\n",
    "\n",
    "#split data into train and test sets\n",
    "X_train, X_test, y_train, y_test = cross_validation.train_test_split(X, y, test_size=0.2)\n",
    "\n",
    "#fit SVMs with different kernels\n",
    "for k in ['linear','poly','rbf','sigmoid']:\n",
    "    clf = svm.SVR(kernel=k)\n",
    "    clf.fit(X_train, y_train)\n",
    "    rsq = clf.score(X_test, y_test) #R^2: %variance explained\n",
    "    print(k,rsq)\n",
    "\n",
    "clf2 = LinearRegression(n_jobs=-1)\n",
    "clf2.fit(X_train, y_train)\n",
    "rsq2 = clf2.score(X_test, y_test)\n",
    "print(\"\\nlinear regression \"+ str(rsq2))"
   ]
  },
  {
   "cell_type": "code",
   "execution_count": 5,
   "metadata": {
    "collapsed": false
   },
   "outputs": [],
   "source": [
    "#Predicting\n",
    "X_lately = X[-forecast_out:]\n",
    "X = X[:-forecast_out]\n",
    "y_lately = y[-forecast_out:]\n",
    "y = y[:-forecast_out]\n",
    "\n",
    "X_train, X_test, y_train, y_test = cross_validation.train_test_split(X,y,test_size=0.2)\n",
    "clf3 = LinearRegression(n_jobs=-1)\n",
    "clf3.fit(X_train, y_train)\n",
    "rsq3 = clf3.score(X_test, y_test)\n",
    "\n",
    "forecast_set = clf3.predict(X_lately)"
   ]
  },
  {
   "cell_type": "code",
   "execution_count": 6,
   "metadata": {
    "collapsed": false
   },
   "outputs": [
    {
     "data": {
      "image/png": "[encoded data removed]",
      "text/plain": [
       "<matplotlib.figure.Figure at 0x7f7233c7dcc0>"
      ]
     },
     "metadata": {},
     "output_type": "display_data"
    }
   ],
   "source": [
    "#Plotting\n",
    "import datetime\n",
    "import matplotlib.pyplot as plt\n",
    "from matplotlib import style\n",
    "\n",
    "style.use('ggplot')\n",
    "\n",
    "df['Forecast'] = np.nan\n",
    "\n",
    "last_date = df.iloc[-1].name\n",
    "last_unix = last_date.timestamp()\n",
    "one_day = 24*60*60\n",
    "next_unix = last_unix + one_day\n",
    "\n",
    "for i in forecast_set:\n",
    "    next_date = datetime.datetime.fromtimestamp(next_unix)\n",
    "    next_unix += one_day\n",
    "    df.loc[next_date] = [np.nan for _ in range(len(df.columns)-1)]+[i]\n",
    "    \n",
    "plotdata = df[-forecast_out:]\n",
    "plotdata = plotdata[['Forecast']]\n",
    "plotdata['Actual'] = y_lately\n",
    "\n",
    "plotdata['Forecast'].plot()\n",
    "plotdata['Actual'].plot()\n",
    "plt.legend(loc=1)\n",
    "plt.xlabel('Date')\n",
    "plt.ylabel('Price')\n",
    "plt.show()"
   ]
  },
  {
   "cell_type": "code",
   "execution_count": 10,
   "metadata": {
    "collapsed": false
   },
   "outputs": [
    {
     "name": "stdout",
     "output_type": "stream",
     "text": [
      "LinearRegression(copy_X=True, fit_intercept=True, n_jobs=-1, normalize=False)\n"
     ]
    }
   ],
   "source": [
    "#Pickling and scaling\n",
    "import pickle\n",
    "\n",
    "with open('linearregression.pickle', 'wb') as f:\n",
    "    pickle.dump(clf3, f)\n",
    "\n",
    "#re-load the linear model into a different variable\n",
    "#just to use pickle, even though it's already saved\n",
    "pickle_in = open('linearregression.pickle','rb')\n",
    "linmodel = pickle.load(pickle_in)\n",
    "\n",
    "#nothing to do for scaling, the tutorial just introduces AWS, etc.\n",
    "\n",
    "#the tutorial goes through programming linear regression manually,\n",
    "#which I already did in R following ESL"
   ]
  }
 ],
 "metadata": {
  "anaconda-cloud": {},
  "kernelspec": {
   "display_name": "Python [conda root]",
   "language": "python",
   "name": "conda-root-py"
  },
  "language_info": {
   "codemirror_mode": {
    "name": "ipython",
    "version": 3
   },
   "file_extension": ".py",
   "mimetype": "text/x-python",
   "name": "python",
   "nbconvert_exporter": "python",
   "pygments_lexer": "ipython3",
   "version": "3.5.2"
  }
 },
 "nbformat": 4,
 "nbformat_minor": 1
}
